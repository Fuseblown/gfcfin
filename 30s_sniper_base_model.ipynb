{
 "cells": [
  {
   "cell_type": "markdown",
   "metadata": {},
   "source": [
    "**Download Data**\\\n",
    "The granular tick/trade data from DataBento can be downloaded from:\n",
    "https://drive.google.com/file/d/1WE4YTNmtWPSvEsYBDD_V2lUYEE_J_sMJ/view?usp=sharing\n",
    "\n",
    "It should be saved to the `data_dir` directory specified in the \"Trade Strategy Variables\" section below."
   ]
  },
  {
   "cell_type": "code",
   "execution_count": 1,
   "metadata": {},
   "outputs": [],
   "source": [
    "import pandas as pd\n"
   ]
  },
  {
   "cell_type": "markdown",
   "metadata": {},
   "source": [
    "Below are variables for requesting data sets via DataBento API. Please use the example data from above instead of pulling from the API (there is a $ cost associated). These may not be needed once a database is established. We only want to pull the data once, when possible. Currently, these are only used in the code below for generating dynamic file names for outputting test data."
   ]
  },
  {
   "cell_type": "code",
   "execution_count": 2,
   "metadata": {},
   "outputs": [],
   "source": [
    "# Data Set Variables for DataBento; these may not be needed once a database is established\n",
    "dataset = \"GLBX.MDP3\"\n",
    "symbol = \"NQZ3\"\n",
    "schema = \"trades\"\n",
    "start_date = \"2023-12-01T00:00:00\"\n",
    "end_date = \"2023-12-31T23:59:59\"\n",
    "stype_in = \"raw_symbol\"\n"
   ]
  },
  {
   "cell_type": "markdown",
   "metadata": {},
   "source": [
    "**Trade Strategy Variables**\n",
    "\n",
    "Currently, these variables only apply to this specific strategy. They would need to be made customizable and toggleable in the future when developing new strategies. See code comments for individual variable descriptions.\n",
    "\n",
    "\n",
    "**Data Source(s) and Storage**\n",
    "\n",
    "These can be changed as needed. `data_dir` is the source data and `temp_data_dir` is used throughout the code below to store temporary output for debugging (the same output you see in the Jupyter notebook cells)."
   ]
  },
  {
   "cell_type": "code",
   "execution_count": 3,
   "metadata": {},
   "outputs": [],
   "source": [
    "# Trade Strategy Variables\n",
    "trade_tf = \"5min\" # The timeframe the trade is framed on. Use 'min' instead of 'm' for minutes because of df.resample() below\n",
    "entry_tf = \"30s\" # The timeframe the trade is executed on\n",
    "data_open_hour = 4 # The hour to begin the data feed for the trading day. Likely earlier than the trade window open in order to identify the earliest setups. (24-hour)\n",
    "data_close_hour = 17 # The hour to end the data feed for the trading day. At minimum, the hour that all trades should be closed for the day. (24-hour)\n",
    "tw_open_hour = 8 # The hour that the active trade window opens (24-hour)\n",
    "tw_close_hour = 16 # The hour that the active trade window closes (24-hour)\n",
    "stop_loss = 12 # Stop Loss (in points)\n",
    "profit_target = 10 # Profit Target (in points)\n",
    "\n",
    "# Data Source(s) and Storage\n",
    "data_dir = \"./data\" # Where the original granular data is stored locally\n",
    "temp_data_dir = \"./data/temp\" # Directory to store temp data for verification purposes\n"
   ]
  },
  {
   "cell_type": "markdown",
   "metadata": {},
   "source": [
    "**Risk Management Variables**\n",
    "\n",
    "These will typically be used for backtesting the majority of strategies. These may change based on the python backtesting library we end up using. Descriptions for each can be found in the code comments."
   ]
  },
  {
   "cell_type": "code",
   "execution_count": 4,
   "metadata": {},
   "outputs": [],
   "source": [
    "# Position Size and Risk Management Variables\n",
    "starting_balance = 3000 # Starting account balance for simulation\n",
    "scaling_interval = 5000 # Interval amount to add `scaling_position_size` from below\n",
    "position_size = 1 # How many contracts/shares of the symbol\n",
    "scaling_position_size = 1 # How many contracts/shares to add based on `scaling_interval` above\n",
    "stop_loss = 12.00 # Number of total points for static stop loss\n",
    "profit_target = 10.00 # Number of total points for static take profit target"
   ]
  },
  {
   "cell_type": "markdown",
   "metadata": {},
   "source": [
    "Load test data into a pandas dataframe, convert time to US/Eastern, and set the index to `ts_recv` which is the time that each trade is finally executed on the exchange."
   ]
  },
  {
   "cell_type": "code",
   "execution_count": 5,
   "metadata": {},
   "outputs": [
    {
     "ename": "FileNotFoundError",
     "evalue": "[Errno 2] No such file or directory: '../data/NQ/tick/2023/Dec/NQZ3_DataBento_trades_Dec_2023.csv'",
     "output_type": "error",
     "traceback": [
      "\u001b[0;31m---------------------------------------------------------------------------\u001b[0m",
      "\u001b[0;31mFileNotFoundError\u001b[0m                         Traceback (most recent call last)",
      "Cell \u001b[0;32mIn[5], line 3\u001b[0m\n\u001b[1;32m      1\u001b[0m \u001b[38;5;66;03m# Create a dataframe from DataBento .csv file for the most granular data\u001b[39;00m\n\u001b[1;32m      2\u001b[0m \u001b[38;5;66;03m# **This will need changed to a database connection in the future**\u001b[39;00m\n\u001b[0;32m----> 3\u001b[0m df \u001b[38;5;241m=\u001b[39m \u001b[43mpd\u001b[49m\u001b[38;5;241;43m.\u001b[39;49m\u001b[43mread_csv\u001b[49m\u001b[43m(\u001b[49m\u001b[38;5;124;43mf\u001b[39;49m\u001b[38;5;124;43m\"\u001b[39;49m\u001b[38;5;132;43;01m{\u001b[39;49;00m\u001b[43mdata_dir\u001b[49m\u001b[38;5;132;43;01m}\u001b[39;49;00m\u001b[38;5;124;43m/\u001b[39;49m\u001b[38;5;132;43;01m{\u001b[39;49;00m\u001b[43msymbol\u001b[49m\u001b[38;5;132;43;01m}\u001b[39;49;00m\u001b[38;5;124;43m_DataBento_\u001b[39;49m\u001b[38;5;132;43;01m{\u001b[39;49;00m\u001b[43mschema\u001b[49m\u001b[38;5;132;43;01m}\u001b[39;49;00m\u001b[38;5;124;43m_Dec_2023.csv\u001b[39;49m\u001b[38;5;124;43m\"\u001b[39;49m\u001b[43m)\u001b[49m\n\u001b[1;32m      5\u001b[0m \u001b[38;5;66;03m# Format and convert to US Eastern time\u001b[39;00m\n\u001b[1;32m      6\u001b[0m \u001b[38;5;66;03m# \"ts_recv\" is the sum of \"ts_event\" plus \"ts_in_delta\" in case it is not already calculated in the data\u001b[39;00m\n\u001b[1;32m      7\u001b[0m df[\u001b[38;5;124m\"\u001b[39m\u001b[38;5;124mts_recv\u001b[39m\u001b[38;5;124m\"\u001b[39m] \u001b[38;5;241m=\u001b[39m pd\u001b[38;5;241m.\u001b[39mto_datetime(df[\u001b[38;5;124m\"\u001b[39m\u001b[38;5;124mts_recv\u001b[39m\u001b[38;5;124m\"\u001b[39m], utc\u001b[38;5;241m=\u001b[39m\u001b[38;5;28;01mTrue\u001b[39;00m, dayfirst\u001b[38;5;241m=\u001b[39m\u001b[38;5;28;01mFalse\u001b[39;00m)\u001b[38;5;241m.\u001b[39mdt\u001b[38;5;241m.\u001b[39mtz_convert(\u001b[38;5;124m\"\u001b[39m\u001b[38;5;124mAmerica/New_York\u001b[39m\u001b[38;5;124m\"\u001b[39m)\n",
      "File \u001b[0;32m~/miniconda3/envs/gfcfin/lib/python3.9/site-packages/pandas/io/parsers/readers.py:1026\u001b[0m, in \u001b[0;36mread_csv\u001b[0;34m(filepath_or_buffer, sep, delimiter, header, names, index_col, usecols, dtype, engine, converters, true_values, false_values, skipinitialspace, skiprows, skipfooter, nrows, na_values, keep_default_na, na_filter, verbose, skip_blank_lines, parse_dates, infer_datetime_format, keep_date_col, date_parser, date_format, dayfirst, cache_dates, iterator, chunksize, compression, thousands, decimal, lineterminator, quotechar, quoting, doublequote, escapechar, comment, encoding, encoding_errors, dialect, on_bad_lines, delim_whitespace, low_memory, memory_map, float_precision, storage_options, dtype_backend)\u001b[0m\n\u001b[1;32m   1013\u001b[0m kwds_defaults \u001b[38;5;241m=\u001b[39m _refine_defaults_read(\n\u001b[1;32m   1014\u001b[0m     dialect,\n\u001b[1;32m   1015\u001b[0m     delimiter,\n\u001b[0;32m   (...)\u001b[0m\n\u001b[1;32m   1022\u001b[0m     dtype_backend\u001b[38;5;241m=\u001b[39mdtype_backend,\n\u001b[1;32m   1023\u001b[0m )\n\u001b[1;32m   1024\u001b[0m kwds\u001b[38;5;241m.\u001b[39mupdate(kwds_defaults)\n\u001b[0;32m-> 1026\u001b[0m \u001b[38;5;28;01mreturn\u001b[39;00m \u001b[43m_read\u001b[49m\u001b[43m(\u001b[49m\u001b[43mfilepath_or_buffer\u001b[49m\u001b[43m,\u001b[49m\u001b[43m \u001b[49m\u001b[43mkwds\u001b[49m\u001b[43m)\u001b[49m\n",
      "File \u001b[0;32m~/miniconda3/envs/gfcfin/lib/python3.9/site-packages/pandas/io/parsers/readers.py:620\u001b[0m, in \u001b[0;36m_read\u001b[0;34m(filepath_or_buffer, kwds)\u001b[0m\n\u001b[1;32m    617\u001b[0m _validate_names(kwds\u001b[38;5;241m.\u001b[39mget(\u001b[38;5;124m\"\u001b[39m\u001b[38;5;124mnames\u001b[39m\u001b[38;5;124m\"\u001b[39m, \u001b[38;5;28;01mNone\u001b[39;00m))\n\u001b[1;32m    619\u001b[0m \u001b[38;5;66;03m# Create the parser.\u001b[39;00m\n\u001b[0;32m--> 620\u001b[0m parser \u001b[38;5;241m=\u001b[39m \u001b[43mTextFileReader\u001b[49m\u001b[43m(\u001b[49m\u001b[43mfilepath_or_buffer\u001b[49m\u001b[43m,\u001b[49m\u001b[43m \u001b[49m\u001b[38;5;241;43m*\u001b[39;49m\u001b[38;5;241;43m*\u001b[39;49m\u001b[43mkwds\u001b[49m\u001b[43m)\u001b[49m\n\u001b[1;32m    622\u001b[0m \u001b[38;5;28;01mif\u001b[39;00m chunksize \u001b[38;5;129;01mor\u001b[39;00m iterator:\n\u001b[1;32m    623\u001b[0m     \u001b[38;5;28;01mreturn\u001b[39;00m parser\n",
      "File \u001b[0;32m~/miniconda3/envs/gfcfin/lib/python3.9/site-packages/pandas/io/parsers/readers.py:1620\u001b[0m, in \u001b[0;36mTextFileReader.__init__\u001b[0;34m(self, f, engine, **kwds)\u001b[0m\n\u001b[1;32m   1617\u001b[0m     \u001b[38;5;28mself\u001b[39m\u001b[38;5;241m.\u001b[39moptions[\u001b[38;5;124m\"\u001b[39m\u001b[38;5;124mhas_index_names\u001b[39m\u001b[38;5;124m\"\u001b[39m] \u001b[38;5;241m=\u001b[39m kwds[\u001b[38;5;124m\"\u001b[39m\u001b[38;5;124mhas_index_names\u001b[39m\u001b[38;5;124m\"\u001b[39m]\n\u001b[1;32m   1619\u001b[0m \u001b[38;5;28mself\u001b[39m\u001b[38;5;241m.\u001b[39mhandles: IOHandles \u001b[38;5;241m|\u001b[39m \u001b[38;5;28;01mNone\u001b[39;00m \u001b[38;5;241m=\u001b[39m \u001b[38;5;28;01mNone\u001b[39;00m\n\u001b[0;32m-> 1620\u001b[0m \u001b[38;5;28mself\u001b[39m\u001b[38;5;241m.\u001b[39m_engine \u001b[38;5;241m=\u001b[39m \u001b[38;5;28;43mself\u001b[39;49m\u001b[38;5;241;43m.\u001b[39;49m\u001b[43m_make_engine\u001b[49m\u001b[43m(\u001b[49m\u001b[43mf\u001b[49m\u001b[43m,\u001b[49m\u001b[43m \u001b[49m\u001b[38;5;28;43mself\u001b[39;49m\u001b[38;5;241;43m.\u001b[39;49m\u001b[43mengine\u001b[49m\u001b[43m)\u001b[49m\n",
      "File \u001b[0;32m~/miniconda3/envs/gfcfin/lib/python3.9/site-packages/pandas/io/parsers/readers.py:1880\u001b[0m, in \u001b[0;36mTextFileReader._make_engine\u001b[0;34m(self, f, engine)\u001b[0m\n\u001b[1;32m   1878\u001b[0m     \u001b[38;5;28;01mif\u001b[39;00m \u001b[38;5;124m\"\u001b[39m\u001b[38;5;124mb\u001b[39m\u001b[38;5;124m\"\u001b[39m \u001b[38;5;129;01mnot\u001b[39;00m \u001b[38;5;129;01min\u001b[39;00m mode:\n\u001b[1;32m   1879\u001b[0m         mode \u001b[38;5;241m+\u001b[39m\u001b[38;5;241m=\u001b[39m \u001b[38;5;124m\"\u001b[39m\u001b[38;5;124mb\u001b[39m\u001b[38;5;124m\"\u001b[39m\n\u001b[0;32m-> 1880\u001b[0m \u001b[38;5;28mself\u001b[39m\u001b[38;5;241m.\u001b[39mhandles \u001b[38;5;241m=\u001b[39m \u001b[43mget_handle\u001b[49m\u001b[43m(\u001b[49m\n\u001b[1;32m   1881\u001b[0m \u001b[43m    \u001b[49m\u001b[43mf\u001b[49m\u001b[43m,\u001b[49m\n\u001b[1;32m   1882\u001b[0m \u001b[43m    \u001b[49m\u001b[43mmode\u001b[49m\u001b[43m,\u001b[49m\n\u001b[1;32m   1883\u001b[0m \u001b[43m    \u001b[49m\u001b[43mencoding\u001b[49m\u001b[38;5;241;43m=\u001b[39;49m\u001b[38;5;28;43mself\u001b[39;49m\u001b[38;5;241;43m.\u001b[39;49m\u001b[43moptions\u001b[49m\u001b[38;5;241;43m.\u001b[39;49m\u001b[43mget\u001b[49m\u001b[43m(\u001b[49m\u001b[38;5;124;43m\"\u001b[39;49m\u001b[38;5;124;43mencoding\u001b[39;49m\u001b[38;5;124;43m\"\u001b[39;49m\u001b[43m,\u001b[49m\u001b[43m \u001b[49m\u001b[38;5;28;43;01mNone\u001b[39;49;00m\u001b[43m)\u001b[49m\u001b[43m,\u001b[49m\n\u001b[1;32m   1884\u001b[0m \u001b[43m    \u001b[49m\u001b[43mcompression\u001b[49m\u001b[38;5;241;43m=\u001b[39;49m\u001b[38;5;28;43mself\u001b[39;49m\u001b[38;5;241;43m.\u001b[39;49m\u001b[43moptions\u001b[49m\u001b[38;5;241;43m.\u001b[39;49m\u001b[43mget\u001b[49m\u001b[43m(\u001b[49m\u001b[38;5;124;43m\"\u001b[39;49m\u001b[38;5;124;43mcompression\u001b[39;49m\u001b[38;5;124;43m\"\u001b[39;49m\u001b[43m,\u001b[49m\u001b[43m \u001b[49m\u001b[38;5;28;43;01mNone\u001b[39;49;00m\u001b[43m)\u001b[49m\u001b[43m,\u001b[49m\n\u001b[1;32m   1885\u001b[0m \u001b[43m    \u001b[49m\u001b[43mmemory_map\u001b[49m\u001b[38;5;241;43m=\u001b[39;49m\u001b[38;5;28;43mself\u001b[39;49m\u001b[38;5;241;43m.\u001b[39;49m\u001b[43moptions\u001b[49m\u001b[38;5;241;43m.\u001b[39;49m\u001b[43mget\u001b[49m\u001b[43m(\u001b[49m\u001b[38;5;124;43m\"\u001b[39;49m\u001b[38;5;124;43mmemory_map\u001b[39;49m\u001b[38;5;124;43m\"\u001b[39;49m\u001b[43m,\u001b[49m\u001b[43m \u001b[49m\u001b[38;5;28;43;01mFalse\u001b[39;49;00m\u001b[43m)\u001b[49m\u001b[43m,\u001b[49m\n\u001b[1;32m   1886\u001b[0m \u001b[43m    \u001b[49m\u001b[43mis_text\u001b[49m\u001b[38;5;241;43m=\u001b[39;49m\u001b[43mis_text\u001b[49m\u001b[43m,\u001b[49m\n\u001b[1;32m   1887\u001b[0m \u001b[43m    \u001b[49m\u001b[43merrors\u001b[49m\u001b[38;5;241;43m=\u001b[39;49m\u001b[38;5;28;43mself\u001b[39;49m\u001b[38;5;241;43m.\u001b[39;49m\u001b[43moptions\u001b[49m\u001b[38;5;241;43m.\u001b[39;49m\u001b[43mget\u001b[49m\u001b[43m(\u001b[49m\u001b[38;5;124;43m\"\u001b[39;49m\u001b[38;5;124;43mencoding_errors\u001b[39;49m\u001b[38;5;124;43m\"\u001b[39;49m\u001b[43m,\u001b[49m\u001b[43m \u001b[49m\u001b[38;5;124;43m\"\u001b[39;49m\u001b[38;5;124;43mstrict\u001b[39;49m\u001b[38;5;124;43m\"\u001b[39;49m\u001b[43m)\u001b[49m\u001b[43m,\u001b[49m\n\u001b[1;32m   1888\u001b[0m \u001b[43m    \u001b[49m\u001b[43mstorage_options\u001b[49m\u001b[38;5;241;43m=\u001b[39;49m\u001b[38;5;28;43mself\u001b[39;49m\u001b[38;5;241;43m.\u001b[39;49m\u001b[43moptions\u001b[49m\u001b[38;5;241;43m.\u001b[39;49m\u001b[43mget\u001b[49m\u001b[43m(\u001b[49m\u001b[38;5;124;43m\"\u001b[39;49m\u001b[38;5;124;43mstorage_options\u001b[39;49m\u001b[38;5;124;43m\"\u001b[39;49m\u001b[43m,\u001b[49m\u001b[43m \u001b[49m\u001b[38;5;28;43;01mNone\u001b[39;49;00m\u001b[43m)\u001b[49m\u001b[43m,\u001b[49m\n\u001b[1;32m   1889\u001b[0m \u001b[43m\u001b[49m\u001b[43m)\u001b[49m\n\u001b[1;32m   1890\u001b[0m \u001b[38;5;28;01massert\u001b[39;00m \u001b[38;5;28mself\u001b[39m\u001b[38;5;241m.\u001b[39mhandles \u001b[38;5;129;01mis\u001b[39;00m \u001b[38;5;129;01mnot\u001b[39;00m \u001b[38;5;28;01mNone\u001b[39;00m\n\u001b[1;32m   1891\u001b[0m f \u001b[38;5;241m=\u001b[39m \u001b[38;5;28mself\u001b[39m\u001b[38;5;241m.\u001b[39mhandles\u001b[38;5;241m.\u001b[39mhandle\n",
      "File \u001b[0;32m~/miniconda3/envs/gfcfin/lib/python3.9/site-packages/pandas/io/common.py:873\u001b[0m, in \u001b[0;36mget_handle\u001b[0;34m(path_or_buf, mode, encoding, compression, memory_map, is_text, errors, storage_options)\u001b[0m\n\u001b[1;32m    868\u001b[0m \u001b[38;5;28;01melif\u001b[39;00m \u001b[38;5;28misinstance\u001b[39m(handle, \u001b[38;5;28mstr\u001b[39m):\n\u001b[1;32m    869\u001b[0m     \u001b[38;5;66;03m# Check whether the filename is to be opened in binary mode.\u001b[39;00m\n\u001b[1;32m    870\u001b[0m     \u001b[38;5;66;03m# Binary mode does not support 'encoding' and 'newline'.\u001b[39;00m\n\u001b[1;32m    871\u001b[0m     \u001b[38;5;28;01mif\u001b[39;00m ioargs\u001b[38;5;241m.\u001b[39mencoding \u001b[38;5;129;01mand\u001b[39;00m \u001b[38;5;124m\"\u001b[39m\u001b[38;5;124mb\u001b[39m\u001b[38;5;124m\"\u001b[39m \u001b[38;5;129;01mnot\u001b[39;00m \u001b[38;5;129;01min\u001b[39;00m ioargs\u001b[38;5;241m.\u001b[39mmode:\n\u001b[1;32m    872\u001b[0m         \u001b[38;5;66;03m# Encoding\u001b[39;00m\n\u001b[0;32m--> 873\u001b[0m         handle \u001b[38;5;241m=\u001b[39m \u001b[38;5;28;43mopen\u001b[39;49m\u001b[43m(\u001b[49m\n\u001b[1;32m    874\u001b[0m \u001b[43m            \u001b[49m\u001b[43mhandle\u001b[49m\u001b[43m,\u001b[49m\n\u001b[1;32m    875\u001b[0m \u001b[43m            \u001b[49m\u001b[43mioargs\u001b[49m\u001b[38;5;241;43m.\u001b[39;49m\u001b[43mmode\u001b[49m\u001b[43m,\u001b[49m\n\u001b[1;32m    876\u001b[0m \u001b[43m            \u001b[49m\u001b[43mencoding\u001b[49m\u001b[38;5;241;43m=\u001b[39;49m\u001b[43mioargs\u001b[49m\u001b[38;5;241;43m.\u001b[39;49m\u001b[43mencoding\u001b[49m\u001b[43m,\u001b[49m\n\u001b[1;32m    877\u001b[0m \u001b[43m            \u001b[49m\u001b[43merrors\u001b[49m\u001b[38;5;241;43m=\u001b[39;49m\u001b[43merrors\u001b[49m\u001b[43m,\u001b[49m\n\u001b[1;32m    878\u001b[0m \u001b[43m            \u001b[49m\u001b[43mnewline\u001b[49m\u001b[38;5;241;43m=\u001b[39;49m\u001b[38;5;124;43m\"\u001b[39;49m\u001b[38;5;124;43m\"\u001b[39;49m\u001b[43m,\u001b[49m\n\u001b[1;32m    879\u001b[0m \u001b[43m        \u001b[49m\u001b[43m)\u001b[49m\n\u001b[1;32m    880\u001b[0m     \u001b[38;5;28;01melse\u001b[39;00m:\n\u001b[1;32m    881\u001b[0m         \u001b[38;5;66;03m# Binary mode\u001b[39;00m\n\u001b[1;32m    882\u001b[0m         handle \u001b[38;5;241m=\u001b[39m \u001b[38;5;28mopen\u001b[39m(handle, ioargs\u001b[38;5;241m.\u001b[39mmode)\n",
      "\u001b[0;31mFileNotFoundError\u001b[0m: [Errno 2] No such file or directory: '../data/NQ/tick/2023/Dec/NQZ3_DataBento_trades_Dec_2023.csv'"
     ]
    }
   ],
   "source": [
    "# Create a dataframe from DataBento .csv file for the most granular data\n",
    "# **This will need changed to a database connection in the future**\n",
    "df = pd.read_csv(f\"{data_dir}/{symbol}_DataBento_{schema}_Dec_2023.csv\")\n",
    "\n",
    "# Format and convert to US Eastern time\n",
    "# \"ts_recv\" is the sum of \"ts_event\" plus \"ts_in_delta\" in case it is not already calculated in the data\n",
    "df[\"ts_recv\"] = pd.to_datetime(df[\"ts_recv\"], utc=True, dayfirst=False).dt.tz_convert(\"America/New_York\")\n",
    "\n",
    "# Set the index column\n",
    "df.set_index(\"ts_recv\", inplace=True)\n",
    "\n",
    "# Format and output the original, granular dataframe after indexing\n",
    "with pd.option_context(\"display.min_rows\", 10, \"display.max_columns\", None, \"display.width\", 1000):\n",
    "    print(df)"
   ]
  },
  {
   "cell_type": "markdown",
   "metadata": {},
   "source": [
    "Resampling the dataframe above into 30-second and 5-minute Open, High, Low, and Close data points (OHLC). These 4 data points (OHLC) make up a candlestick on a trading chart.\n",
    "\n",
    "The data being output in this code block is also being saved to the `temp_data_dir` for easier browsing of the data for verification and troubleshooting.\n",
    "\n",
    "<span style=\"color:yellow\">***The resampled data generated directly below is manually verified to be correct and accurate***</span>"
   ]
  },
  {
   "cell_type": "code",
   "execution_count": 6,
   "metadata": {},
   "outputs": [
    {
     "name": "stdout",
     "output_type": "stream",
     "text": [
      "\n",
      "######################\n",
      "30-sec resampled data:\n",
      "######################\n",
      "                                open      high       low     close\n",
      "ts_recv                                                          \n",
      "2023-11-30 19:00:00-05:00  15964.25  15964.25  15962.25  15962.50\n",
      "2023-11-30 19:00:30-05:00  15963.00  15963.75  15962.75  15963.75\n",
      "2023-11-30 19:01:00-05:00  15963.50  15963.50  15963.00  15963.25\n",
      "2023-11-30 19:01:30-05:00  15963.00  15963.25  15963.00  15963.25\n",
      "2023-11-30 19:02:00-05:00  15962.75  15962.75  15961.00  15961.50\n",
      "...                             ...       ...       ...       ...\n",
      "2023-12-15 09:27:30-05:00  16580.50  16597.00  16575.00  16580.50\n",
      "2023-12-15 09:28:00-05:00  16580.50  16589.00  16545.00  16545.00\n",
      "2023-12-15 09:28:30-05:00  16582.00  16582.75  16544.75  16559.25\n",
      "2023-12-15 09:29:00-05:00  16552.50  16582.00  16521.50  16557.75\n",
      "2023-12-15 09:29:30-05:00  16554.00  16568.50  16533.00  16558.00\n",
      "\n",
      "[42060 rows x 4 columns]\n",
      "30-second aggregated data saved to: '../strategies/data/30s_sniper_base_model/NQZ3_30s_aggregated_ohlc.csv'\n",
      "\n",
      "#####################\n",
      "5-min resampled data:\n",
      "#####################\n",
      "                                open      high       low     close\n",
      "ts_recv                                                          \n",
      "2023-11-30 19:00:00-05:00  15964.25  15964.25  15958.25  15959.00\n",
      "2023-11-30 19:05:00-05:00  15959.00  15963.00  15959.00  15962.75\n",
      "2023-11-30 19:10:00-05:00  15962.75  15964.25  15962.50  15963.25\n",
      "2023-11-30 19:15:00-05:00  15962.75  15963.00  15959.50  15961.75\n",
      "2023-11-30 19:20:00-05:00  15961.75  15962.50  15960.75  15962.50\n",
      "...                             ...       ...       ...       ...\n",
      "2023-12-15 09:05:00-05:00  16590.00  16594.25  16586.25  16591.75\n",
      "2023-12-15 09:10:00-05:00  16589.50  16601.00  16589.50  16598.75\n",
      "2023-12-15 09:15:00-05:00  16598.75  16612.50  16598.75  16605.25\n",
      "2023-12-15 09:20:00-05:00  16605.50  16609.75  16598.75  16601.25\n",
      "2023-12-15 09:25:00-05:00  16600.75  16602.25  16521.50  16558.00\n",
      "\n",
      "[4206 rows x 4 columns]\n",
      "5-minute aggregated data saved to: '../strategies/data/30s_sniper_base_model/NQZ3_5min_aggregated_ohlc.csv'\n",
      "\n",
      "#####################\n",
      "5-min resampled data:\n",
      "#####################\n",
      "                                open      high       low     close\n",
      "ts_recv                                                          \n",
      "2023-11-30 19:00:00-05:00  15964.25  15964.25  15958.25  15963.25\n",
      "2023-11-30 19:15:00-05:00  15962.75  15963.75  15959.50  15961.50\n",
      "2023-11-30 19:30:00-05:00  15961.25  15961.25  15956.75  15959.50\n",
      "2023-11-30 19:45:00-05:00  15959.75  15959.75  15955.00  15958.75\n",
      "2023-11-30 20:00:00-05:00  15958.75  15962.25  15953.50  15954.25\n",
      "...                             ...       ...       ...       ...\n",
      "2023-12-15 08:15:00-05:00  16592.00  16595.25  16584.00  16595.25\n",
      "2023-12-15 08:30:00-05:00  16596.75  16603.50  16549.25  16567.75\n",
      "2023-12-15 08:45:00-05:00  16565.25  16580.00  16560.50  16580.00\n",
      "2023-12-15 09:00:00-05:00  16584.00  16601.00  16576.75  16598.75\n",
      "2023-12-15 09:15:00-05:00  16598.75  16612.50  16521.50  16558.00\n",
      "\n",
      "[1402 rows x 4 columns]\n",
      "15-minute aggregated data saved to: '../strategies/data/30s_sniper_base_model/NQZ3_15min_aggregated_ohlc.csv'\n"
     ]
    }
   ],
   "source": [
    "# Resample granular data into aggregated intervals for the strategy\n",
    "# -------------------------------\n",
    "# 30-second candlesticks (OHLC)\n",
    "df_30s = df.resample(\"30s\")[\"price\"].ohlc().ffill()\n",
    "\n",
    "# Format and display the resampled 30-second output\n",
    "with pd.option_context(\"display.min_rows\", 10, \"display.max_columns\", None, \"display.width\", 1000):\n",
    "    print(f\"\\n######################\\n30-sec resampled data:\\n######################\\n {df_30s}\")\n",
    "    \n",
    "# Save resampled 30-second data to csv for verification purposes, if needed\n",
    "df_30s.to_csv(f\"{temp_data_dir}/{symbol}_30s_aggregated_ohlc.csv\")\n",
    "print(f\"30-second aggregated data saved to: '{temp_data_dir}/{symbol}_30s_aggregated_ohlc.csv'\")\n",
    "\n",
    "\n",
    "# 5-minute candlesticks (OHLC)\n",
    "df_5m = df.resample(\"5min\")[\"price\"].ohlc().ffill()\n",
    "\n",
    "# Format and display the resampled 5-minute output\n",
    "with pd.option_context(\"display.min_rows\", 10, \"display.max_columns\", None, \"display.width\", 1000):\n",
    "    print(f\"\\n#####################\\n5-min resampled data:\\n#####################\\n {df_5m}\")\n",
    "    \n",
    "# Save resampled 5-minute data to csv for verification purposes, if needed\n",
    "df_5m.to_csv(f\"{temp_data_dir}/{symbol}_5m_aggregated_ohlc.csv\")\n",
    "print(f\"5-minute aggregated data saved to: '{temp_data_dir}/{symbol}_5min_aggregated_ohlc.csv'\")\n",
    "\n",
    "# 15-minute candlesticks (OHLC)\n",
    "df_15m = df.resample(\"15min\")[\"price\"].ohlc().ffill()\n",
    "\n",
    "# Format and display the resampled 5-minute output\n",
    "with pd.option_context(\"display.min_rows\", 10, \"display.max_columns\", None, \"display.width\", 1000):\n",
    "    print(f\"\\n#####################\\n5-min resampled data:\\n#####################\\n {df_15m}\")\n",
    "    \n",
    "# Save resampled 5-minute data to csv for verification purposes, if needed\n",
    "df_15m.to_csv(f\"{temp_data_dir}/{symbol}_15m_aggregated_ohlc.csv\")\n",
    "print(f\"15-minute aggregated data saved to: '{temp_data_dir}/{symbol}_15min_aggregated_ohlc.csv'\")\n"
   ]
  },
  {
   "cell_type": "markdown",
   "metadata": {},
   "source": [
    "Here, we are applying the defined data window variables from the strategy rules to the previously resampled data so that only the data within the desired data window is analyzed. There may be a much better way of doing this, I'm not sure.\n",
    "\n",
    "\n",
    "The reason there is a data_window and trading_window is because the data needs to be analyzed prior to the trading window in case there is a valid trade entry as soon as the trading window opens (it happens quite often). For example, the trading strategy begins trading at 8AM. There may be a setup that allows for an entry at exactly 8AM. If the data window was the same as the trading window, that trade would be missed because it would not start looking for new swing highs and lows until after 8AM.\n",
    "\n",
    "\n",
    "Perhaps just applying this time window to the original dataframe ***before*** resampling into the 30-sec and 5-min data is likely better and faster/more efficient.\n",
    "\n",
    "\n",
    "<span style=\"color:yellow\">***The filtered data generated directly below is manually verified to be correct and accurate***</span>"
   ]
  },
  {
   "cell_type": "code",
   "execution_count": 7,
   "metadata": {},
   "outputs": [
    {
     "name": "stdout",
     "output_type": "stream",
     "text": [
      "Applying 'is_data_window' to granular DataFrame and filtering results:\n",
      "                                                                 ts_event  rtype  publisher_id  instrument_id action side  depth     price  size  flags  ts_in_delta   sequence symbol  is_data_window\n",
      "ts_recv                                                                                                                                                                                              \n",
      "2023-12-01 04:00:00.007095156-05:00  2023-12-01 09:00:00.006874529+00:00      0             1         260937      T    A      0  15981.25     1      0        15470  181627916   NQZ3            True\n",
      "2023-12-01 04:00:00.030049105-05:00  2023-12-01 09:00:00.029849545+00:00      0             1         260937      T    B      0  15981.75     1      0        15192  181627987   NQZ3            True\n",
      "2023-12-01 04:00:00.030548991-05:00  2023-12-01 09:00:00.030358007+00:00      0             1         260937      T    B      0  15981.75     1      0        15443  181628005   NQZ3            True\n",
      "2023-12-01 04:00:00.034833439-05:00  2023-12-01 09:00:00.034636427+00:00      0             1         260937      T    B      0  15981.75     1      0        15289  181628078   NQZ3            True\n",
      "2023-12-01 04:00:00.034874792-05:00  2023-12-01 09:00:00.034659659+00:00      0             1         260937      T    B      0  15981.75     1      0        15959  181628079   NQZ3            True\n",
      "...                                                                  ...    ...           ...            ...    ...  ...    ...       ...   ...    ...          ...        ...    ...             ...\n",
      "2023-12-15 09:29:43.205512073-05:00  2023-12-15 14:29:43.205258501+00:00      0             1         260937      T    A      0  16538.00     1      0        18256  268799749   NQZ3            True\n",
      "2023-12-15 09:29:43.554114821-05:00  2023-12-15 14:29:43.553889321+00:00      0             1         260937      T    A      0  16533.25     1      0        16036  268800631   NQZ3            True\n",
      "2023-12-15 09:29:43.554114821-05:00  2023-12-15 14:29:43.553889321+00:00      0             1         260937      T    A      0  16533.00     2      0        16036  268800631   NQZ3            True\n",
      "2023-12-15 09:29:43.848633018-05:00  2023-12-15 14:29:43.848448245+00:00      0             1         260937      T    A      0  16538.00     2      0        15603  268801062   NQZ3            True\n",
      "2023-12-15 09:29:55.136395549-05:00  2023-12-15 14:29:55.136223371+00:00      0             1         260937      T    B      0  16558.00     1      0        15781  268825160   NQZ3            True\n",
      "\n",
      "[2472705 rows x 14 columns]\n",
      "Applying 'is_data_window' to 30-second resampled DataFrame and filtering results:\n",
      "                                open      high       low     close  is_data_window\n",
      "ts_recv                                                                          \n",
      "2023-12-01 04:00:00-05:00  15981.25  15985.00  15981.25  15982.00            True\n",
      "2023-12-01 04:00:30-05:00  15981.75  15983.50  15981.25  15982.75            True\n",
      "2023-12-01 04:01:00-05:00  15982.50  15984.00  15982.25  15983.00            True\n",
      "2023-12-01 04:01:30-05:00  15982.75  15984.00  15980.50  15983.50            True\n",
      "2023-12-01 04:02:00-05:00  15983.50  15984.25  15982.00  15982.00            True\n",
      "...                             ...       ...       ...       ...             ...\n",
      "2023-12-15 09:27:30-05:00  16580.50  16597.00  16575.00  16580.50            True\n",
      "2023-12-15 09:28:00-05:00  16580.50  16589.00  16545.00  16545.00            True\n",
      "2023-12-15 09:28:30-05:00  16582.00  16582.75  16544.75  16559.25            True\n",
      "2023-12-15 09:29:00-05:00  16552.50  16582.00  16521.50  16557.75            True\n",
      "2023-12-15 09:29:30-05:00  16554.00  16568.50  16533.00  16558.00            True\n",
      "\n",
      "[16260 rows x 5 columns]\n",
      "Applying 'is_data_window' to 5-minute resampled DataFrame and filtering results:\n",
      "                                open      high       low     close  is_data_window\n",
      "ts_recv                                                                          \n",
      "2023-12-01 04:00:00-05:00  15981.25  15985.00  15980.50  15981.75            True\n",
      "2023-12-01 04:05:00-05:00  15982.00  15987.00  15978.00  15985.25            True\n",
      "2023-12-01 04:10:00-05:00  15985.50  15988.75  15982.75  15988.00            True\n",
      "2023-12-01 04:15:00-05:00  15987.75  15992.25  15986.50  15991.25            True\n",
      "2023-12-01 04:20:00-05:00  15991.25  15994.50  15990.50  15992.25            True\n",
      "...                             ...       ...       ...       ...             ...\n",
      "2023-12-15 09:05:00-05:00  16590.00  16594.25  16586.25  16591.75            True\n",
      "2023-12-15 09:10:00-05:00  16589.50  16601.00  16589.50  16598.75            True\n",
      "2023-12-15 09:15:00-05:00  16598.75  16612.50  16598.75  16605.25            True\n",
      "2023-12-15 09:20:00-05:00  16605.50  16609.75  16598.75  16601.25            True\n",
      "2023-12-15 09:25:00-05:00  16600.75  16602.25  16521.50  16558.00            True\n",
      "\n",
      "[1626 rows x 5 columns]\n"
     ]
    }
   ],
   "source": [
    "# Define the data window. In many cases, this will need to be larger than the active trading window to be sure that the earliest setups are identified.\n",
    "def is_data_window(row):\n",
    "    if isinstance(row.name, pd.Timestamp):\n",
    "        return row.name.hour >= data_open_hour and row.name.hour < data_close_hour and row.name.dayofweek <= 4\n",
    "    elif isinstance(row.name, tuple):\n",
    "        return row.name[1].hour >= data_open_hour and row.name[1].hour < data_close_hour and row.name[1].dayofweek <= 4\n",
    "    else:\n",
    "        raise ValueError(\"Unexpected data type for row.name\")\n",
    "\n",
    "# Apply 'is_data_window' filter to granular data\n",
    "df[\"is_data_window\"] = df.apply(is_data_window, axis=1)\n",
    "\n",
    "# Filter (copy) the results and only display rows where 'is_data_window' is True\n",
    "df = df[df[\"is_data_window\"]].copy()\n",
    "\n",
    "# Display the filtered granular output for verification\n",
    "with pd.option_context(\"display.min_rows\", 10, \"display.max_columns\", None, \"display.width\", 1000):\n",
    "    print(f\"Applying 'is_data_window' to granular DataFrame and filtering results:\\n {df}\")\n",
    "\n",
    "# Apply 'is_data_window' filter to 30-second resampled data\n",
    "df_30s[\"is_data_window\"] = df_30s.apply(is_data_window, axis=1)\n",
    "\n",
    "# Filter (copy) the results and only display rows where 'is_data_window' is True\n",
    "df_30s = df_30s[df_30s[\"is_data_window\"]].copy()\n",
    "\n",
    "# Display the filtered 30-second resampled output for verification\n",
    "with pd.option_context(\"display.min_rows\", 10, \"display.max_columns\", None, \"display.width\", 1000):\n",
    "    print(f\"Applying 'is_data_window' to 30-second resampled DataFrame and filtering results:\\n {df_30s}\")\n",
    "\n",
    "# Apply 'is_data_window' filter to 5-minute resampled data   \n",
    "df_5m[\"is_data_window\"] = df_5m.apply(is_data_window, axis=1)\n",
    "\n",
    "# Filter (copy) the results and only display rows where 'is_data_window' is True\n",
    "df_5m = df_5m[df_5m[\"is_data_window\"]].copy()\n",
    "\n",
    "# Display the filtered 5-minute resampled output for verification\n",
    "with pd.option_context(\"display.min_rows\", 10, \"display.max_columns\", None, \"display.width\", 1000):\n",
    "    print(f\"Applying 'is_data_window' to 5-minute resampled DataFrame and filtering results:\\n {df_5m}\")\n"
   ]
  },
  {
   "cell_type": "markdown",
   "metadata": {},
   "source": [
    "At this point, all of the data is available in the necessary aggregated timeframes for the trading strategy and we can begin to look for Swing High and Swing Low candlestick patterns within the 5-minute OHLC candlestick data.\n",
    "\n",
    "\n",
    "The code below identifies all swing highs and lows and only fills the most recent swing that was generated (whether or not it was broken doesn't matter here).\n",
    "\n",
    "\n",
    "A \"swing high\" is a three candlestick pattern where the 1st and 3rd candle highs are lower (and not equal to) the high of the 2nd candle. A \"swing low\" is a three candlestick pattern where the 1st and 3rd candle lows are higher (and not equal to) the low of the 2nd candle.\n",
    "\n",
    "<span style=\"color:yellow\">***The data output directly below is manually verified to be correct and accurate***</span>"
   ]
  },
  {
   "cell_type": "code",
   "execution_count": 8,
   "metadata": {},
   "outputs": [
    {
     "name": "stdout",
     "output_type": "stream",
     "text": [
      "                               open      high       low     close  is_data_window  SwingHigh  SwingLow\n",
      "ts_recv                                                                                               \n",
      "2023-12-01 04:00:00-05:00  15981.25  15985.00  15980.50  15981.75            True        NaN       NaN\n",
      "2023-12-01 04:05:00-05:00  15982.00  15987.00  15978.00  15985.25            True        NaN       NaN\n",
      "2023-12-01 04:10:00-05:00  15985.50  15988.75  15982.75  15988.00            True        NaN  15978.00\n",
      "2023-12-01 04:15:00-05:00  15987.75  15992.25  15986.50  15991.25            True        NaN       NaN\n",
      "2023-12-01 04:20:00-05:00  15991.25  15994.50  15990.50  15992.25            True        NaN       NaN\n",
      "2023-12-01 04:25:00-05:00  15992.25  15994.25  15988.75  15993.75            True   15994.50       NaN\n",
      "2023-12-01 04:30:00-05:00  15993.50  16000.75  15993.25  15997.50            True        NaN  15988.75\n",
      "2023-12-01 04:35:00-05:00  15997.50  15999.00  15993.25  15995.00            True   16000.75       NaN\n",
      "2023-12-01 04:40:00-05:00  15995.00  15997.75  15993.00  15997.00            True        NaN       NaN\n",
      "2023-12-01 04:45:00-05:00  15997.25  15997.75  15991.50  15993.25            True        NaN       NaN\n",
      "...                             ...       ...       ...       ...             ...        ...       ...\n",
      "2023-12-15 08:40:00-05:00  16565.25  16570.25  16549.25  16567.75            True        NaN       NaN\n",
      "2023-12-15 08:45:00-05:00  16565.25  16570.75  16560.50  16564.50            True        NaN  16549.25\n",
      "2023-12-15 08:50:00-05:00  16567.00  16578.00  16565.25  16577.00            True        NaN       NaN\n",
      "2023-12-15 08:55:00-05:00  16573.00  16580.00  16568.75  16580.00            True        NaN       NaN\n",
      "2023-12-15 09:00:00-05:00  16584.00  16596.00  16576.75  16592.00            True        NaN       NaN\n",
      "2023-12-15 09:05:00-05:00  16590.00  16594.25  16586.25  16591.75            True   16596.00       NaN\n",
      "2023-12-15 09:10:00-05:00  16589.50  16601.00  16589.50  16598.75            True        NaN       NaN\n",
      "2023-12-15 09:15:00-05:00  16598.75  16612.50  16598.75  16605.25            True        NaN       NaN\n",
      "2023-12-15 09:20:00-05:00  16605.50  16609.75  16598.75  16601.25            True   16612.50       NaN\n",
      "2023-12-15 09:25:00-05:00  16600.75  16602.25  16521.50  16558.00            True        NaN       NaN\n",
      "\n",
      "[1626 rows x 7 columns]\n"
     ]
    }
   ],
   "source": [
    "# Calculate the rolling swing highs and swing lows over the last three, 5-minute candlesticks\n",
    "df_5m[\"SwingHigh\"] = df_5m[\"high\"].shift(2).where((df_5m[\"high\"].shift(2) > df_5m[\"high\"].shift(1)) & (df_5m[\"high\"].shift(2) > df_5m[\"high\"].shift(3))).shift(-1)\n",
    "df_5m[\"SwingLow\"] = df_5m[\"low\"].shift(2).where((df_5m[\"low\"].shift(2) < df_5m[\"low\"].shift(1)) & (df_5m[\"low\"].shift(2) < df_5m[\"low\"].shift(3))).shift(-1)\n",
    "\n",
    "# # Forward-fill NaNs in df_5m\n",
    "# df_5m[\"SwingHigh\"] = df_5m[\"SwingHigh\"].ffill()\n",
    "# df_5m[\"SwingLow\"] = df_5m[\"SwingLow\"].ffill()\n",
    "\n",
    "with pd.option_context(\"display.min_rows\", 20, \"display.max_columns\", None, \"display.width\", 1000):\n",
    "    print(df_5m)\n"
   ]
  },
  {
   "cell_type": "markdown",
   "metadata": {},
   "source": [
    "Once the most recent swing highs and lows within the 5-minute data are being identified, we are waiting for price to move above the most recent swing high (`BreakHigh`) or below the most recent swing low (`BreakLow`).\n",
    "\n",
    "**TO-DO:**\n",
    "  - If `BreakHigh` or `BreakLow` are 'True', then reset `SwingHigh` and/or `SwingLow` to the next most recent swing high or low that has not been broken (currently stuck on this part here a little bit)\n",
    "\n",
    "<span style=\"color:red\">**PLEASE NOTE:** This output has not yet been verified to ensure that it's correct and valid.</span>"
   ]
  },
  {
   "cell_type": "code",
   "execution_count": 9,
   "metadata": {},
   "outputs": [
    {
     "name": "stdout",
     "output_type": "stream",
     "text": [
      "                               open      high       low     close  is_data_window  SwingHigh  SwingLow  BreakHigh  BreakLow\n",
      "ts_recv                                                                                                                    \n",
      "2023-12-01 04:00:00-05:00  15981.25  15985.00  15980.50  15981.75            True        NaN       NaN      False     False\n",
      "2023-12-01 04:05:00-05:00  15982.00  15987.00  15978.00  15985.25            True        NaN       NaN      False     False\n",
      "2023-12-01 04:10:00-05:00  15985.50  15988.75  15982.75  15988.00            True        NaN   15978.0      False     False\n",
      "2023-12-01 04:15:00-05:00  15987.75  15992.25  15986.50  15991.25            True        NaN       NaN      False     False\n",
      "2023-12-01 04:20:00-05:00  15991.25  15994.50  15990.50  15992.25            True        NaN       NaN      False     False\n",
      "...                             ...       ...       ...       ...             ...        ...       ...        ...       ...\n",
      "2023-12-15 09:05:00-05:00  16590.00  16594.25  16586.25  16591.75            True    16596.0       NaN      False     False\n",
      "2023-12-15 09:10:00-05:00  16589.50  16601.00  16589.50  16598.75            True        NaN       NaN      False     False\n",
      "2023-12-15 09:15:00-05:00  16598.75  16612.50  16598.75  16605.25            True        NaN       NaN      False     False\n",
      "2023-12-15 09:20:00-05:00  16605.50  16609.75  16598.75  16601.25            True    16612.5       NaN      False     False\n",
      "2023-12-15 09:25:00-05:00  16600.75  16602.25  16521.50  16558.00            True        NaN       NaN      False     False\n",
      "\n",
      "[1626 rows x 9 columns]\n"
     ]
    }
   ],
   "source": [
    "# Check for the \"break\" of the most recent swing high and/or swing low. For example, price needs to move above a swing high or below a swing low and cannot be equal to.\n",
    "df_5m['BreakHigh'] = (df_5m['high'] > df_5m['SwingHigh'])\n",
    "df_5m['BreakLow'] = (df_5m['low'] < df_5m['SwingLow'])\n",
    "\n",
    "with pd.option_context(\"display.min_rows\", 10, \"display.max_columns\", None, \"display.width\", 1000):\n",
    "    print(df_5m)\n",
    "    \n",
    "# If `BreakHigh` or `BreakLow` are 'True', then reset `SwingHigh` and/or `SwingLow` to the next most recent swing high or low that has not been broken"
   ]
  },
  {
   "cell_type": "markdown",
   "metadata": {},
   "source": [
    "Then, once a swing high or low has been broken, we check for the next candle to close ***in the opposite direction*** of the swing high or low that was broken.\n",
    "\n",
    "For example, if a swing high was broken (price moved higher than the swing high), it will wait for a red (or down-close) candle (close < open) to close in the 5-minute data and return `true` in the dataframe for `DownClose`. If a swing low was broken (price moved lower than the swing low), it will wait for a green (or up-close) candle (close > open) to close in the 5-minute data and return `true` in the dataframe for `UpClose`.\n",
    "\n",
    "<span style=\"color:red\">**PLEASE NOTE:** This output has not yet been verified to ensure that it's correct and valid.</span>\n",
    "\n",
    "***This appears to be correctly identifying when a swing high or low is broken and when an opposite close candle happens, but we need to update the dataframe as these columns become invalidated. Currently stuck on this part a bit.***"
   ]
  },
  {
   "cell_type": "code",
   "execution_count": 10,
   "metadata": {},
   "outputs": [
    {
     "name": "stdout",
     "output_type": "stream",
     "text": [
      "                               open      high       low     close  is_data_window  SwingHigh  SwingLow  BreakHigh  BreakLow  DownClose  UpClose\n",
      "ts_recv                                                                                                                                        \n",
      "2023-12-01 04:00:00-05:00  15981.25  15985.00  15980.50  15981.75            True        NaN       NaN      False     False      False    False\n",
      "2023-12-01 04:05:00-05:00  15982.00  15987.00  15978.00  15985.25            True        NaN       NaN      False     False      False    False\n",
      "2023-12-01 04:10:00-05:00  15985.50  15988.75  15982.75  15988.00            True        NaN   15978.0      False     False      False    False\n",
      "2023-12-01 04:15:00-05:00  15987.75  15992.25  15986.50  15991.25            True        NaN       NaN      False     False      False    False\n",
      "2023-12-01 04:20:00-05:00  15991.25  15994.50  15990.50  15992.25            True        NaN       NaN      False     False      False    False\n",
      "...                             ...       ...       ...       ...             ...        ...       ...        ...       ...        ...      ...\n",
      "2023-12-15 09:05:00-05:00  16590.00  16594.25  16586.25  16591.75            True    16596.0       NaN      False     False      False    False\n",
      "2023-12-15 09:10:00-05:00  16589.50  16601.00  16589.50  16598.75            True        NaN       NaN      False     False      False    False\n",
      "2023-12-15 09:15:00-05:00  16598.75  16612.50  16598.75  16605.25            True        NaN       NaN      False     False      False    False\n",
      "2023-12-15 09:20:00-05:00  16605.50  16609.75  16598.75  16601.25            True    16612.5       NaN      False     False      False    False\n",
      "2023-12-15 09:25:00-05:00  16600.75  16602.25  16521.50  16558.00            True        NaN       NaN      False     False      False    False\n",
      "\n",
      "[1626 rows x 11 columns]\n"
     ]
    }
   ],
   "source": [
    "# Check for a candle to close in the opposite direction of the broken swing high/low\n",
    "df_5m['DownClose'] = (df_5m['close'] < df_5m['open']) & df_5m['BreakHigh'].shift(1)\n",
    "df_5m['UpClose'] = (df_5m['close'] > df_5m['open']) & df_5m['BreakLow'].shift(1)\n",
    "\n",
    "with pd.option_context(\"display.min_rows\", 10, \"display.max_columns\", None, \"display.width\", 1000):\n",
    "    print(df_5m)"
   ]
  },
  {
   "cell_type": "markdown",
   "metadata": {},
   "source": [
    "Here, we are applying the defined trading window variables from the strategy rules to the previously resampled data so that only the data within the desired trade window is analyzed. I'm sure there is likely a much better way of doing this and the data_window block further above.\n",
    "\n",
    "\n",
    "The reason there is a data_window and trading_window is because the data needs to be analyzed prior to the trading window in case there is a valid trade entry as soon as the trading window opens (it happens quite often). For example, the trading strategy begins trading at 8AM. There may be a setup that allows for an entry at exactly 8AM. If the data window was the same as the trading window, that trade would be missed because it would not start looking for new swing highs and lows until after 8AM.\n",
    "\n",
    "\n",
    "Perhaps just applying this time window to the original dataframe ***before*** resampling into the 30-sec and 5-min data is likely better and faster/more efficient.\n",
    "\n",
    "<span style=\"color:red\">**PLEASE NOTE:** This output has not yet been verified to ensure that it's correct and valid.</span>"
   ]
  },
  {
   "cell_type": "code",
   "execution_count": 11,
   "metadata": {},
   "outputs": [
    {
     "name": "stdout",
     "output_type": "stream",
     "text": [
      "Applying 'is_trading_window' to granular DataFrame and filtering results:\n",
      "                                                                 ts_event  rtype  publisher_id  instrument_id action side  depth     price  size  flags  ts_in_delta   sequence symbol  is_data_window  is_trading_window\n",
      "ts_recv                                                                                                                                                                                                                 \n",
      "2023-12-01 08:00:00.041508761-05:00  2023-12-01 13:00:00.041330717+00:00      0             1         260937      T    B      0  15924.50     1      0        15953  184385641   NQZ3            True               True\n",
      "2023-12-01 08:00:00.152503179-05:00  2023-12-01 13:00:00.152250041+00:00      0             1         260937      T    B      0  15924.75     2      0        15875  184385741   NQZ3            True               True\n",
      "2023-12-01 08:00:00.152578527-05:00  2023-12-01 13:00:00.152268941+00:00      0             1         260937      T    B      0  15924.75     1      0        15744  184385743   NQZ3            True               True\n",
      "2023-12-01 08:00:00.188342086-05:00  2023-12-01 13:00:00.187972419+00:00      0             1         260937      T    A      0  15924.50     2      0        16247  184385828   NQZ3            True               True\n",
      "2023-12-01 08:00:00.188342086-05:00  2023-12-01 13:00:00.187972419+00:00      0             1         260937      T    A      0  15924.25     8      0        16247  184385828   NQZ3            True               True\n",
      "...                                                                  ...    ...           ...            ...    ...  ...    ...       ...   ...    ...          ...        ...    ...             ...                ...\n",
      "2023-12-15 09:29:43.205512073-05:00  2023-12-15 14:29:43.205258501+00:00      0             1         260937      T    A      0  16538.00     1      0        18256  268799749   NQZ3            True               True\n",
      "2023-12-15 09:29:43.554114821-05:00  2023-12-15 14:29:43.553889321+00:00      0             1         260937      T    A      0  16533.25     1      0        16036  268800631   NQZ3            True               True\n",
      "2023-12-15 09:29:43.554114821-05:00  2023-12-15 14:29:43.553889321+00:00      0             1         260937      T    A      0  16533.00     2      0        16036  268800631   NQZ3            True               True\n",
      "2023-12-15 09:29:43.848633018-05:00  2023-12-15 14:29:43.848448245+00:00      0             1         260937      T    A      0  16538.00     2      0        15603  268801062   NQZ3            True               True\n",
      "2023-12-15 09:29:55.136395549-05:00  2023-12-15 14:29:55.136223371+00:00      0             1         260937      T    B      0  16558.00     1      0        15781  268825160   NQZ3            True               True\n",
      "\n",
      "[2260721 rows x 15 columns]\n",
      "Applying 'is_trading_window' to 30-second resampled DataFrame and filtering results:\n",
      "                                open      high       low     close  is_data_window  is_trading_window\n",
      "ts_recv                                                                                             \n",
      "2023-12-01 08:00:00-05:00  15924.50  15926.00  15923.00  15923.75            True               True\n",
      "2023-12-01 08:00:30-05:00  15924.75  15929.00  15924.75  15928.25            True               True\n",
      "2023-12-01 08:01:00-05:00  15928.00  15931.25  15928.00  15931.00            True               True\n",
      "2023-12-01 08:01:30-05:00  15930.75  15931.50  15929.00  15930.00            True               True\n",
      "2023-12-01 08:02:00-05:00  15929.75  15931.75  15928.75  15931.75            True               True\n",
      "...                             ...       ...       ...       ...             ...                ...\n",
      "2023-12-15 09:27:30-05:00  16580.50  16597.00  16575.00  16580.50            True               True\n",
      "2023-12-15 09:28:00-05:00  16580.50  16589.00  16545.00  16545.00            True               True\n",
      "2023-12-15 09:28:30-05:00  16582.00  16582.75  16544.75  16559.25            True               True\n",
      "2023-12-15 09:29:00-05:00  16552.50  16582.00  16521.50  16557.75            True               True\n",
      "2023-12-15 09:29:30-05:00  16554.00  16568.50  16533.00  16558.00            True               True\n",
      "\n",
      "[9780 rows x 6 columns]\n",
      "Applying 'is_trading_window' to 5-minute resampled DataFrame and filtering results:\n",
      "                                open      high       low     close  is_data_window  SwingHigh  SwingLow  BreakHigh  BreakLow  DownClose  UpClose  is_trading_window\n",
      "ts_recv                                                                                                                                                           \n",
      "2023-12-01 08:00:00-05:00  15924.50  15940.50  15923.00  15935.75            True        NaN       NaN      False     False      False    False               True\n",
      "2023-12-01 08:05:00-05:00  15936.00  15941.50  15935.00  15937.50            True        NaN       NaN      False     False      False    False               True\n",
      "2023-12-01 08:10:00-05:00  15937.50  15942.50  15929.50  15932.75            True        NaN       NaN      False     False      False    False               True\n",
      "2023-12-01 08:15:00-05:00  15932.50  15941.00  15929.75  15940.50            True    15942.5   15929.5      False     False      False    False               True\n",
      "2023-12-01 08:20:00-05:00  15940.25  15945.75  15936.75  15943.50            True        NaN       NaN      False     False      False    False               True\n",
      "...                             ...       ...       ...       ...             ...        ...       ...        ...       ...        ...      ...                ...\n",
      "2023-12-15 09:05:00-05:00  16590.00  16594.25  16586.25  16591.75            True    16596.0       NaN      False     False      False    False               True\n",
      "2023-12-15 09:10:00-05:00  16589.50  16601.00  16589.50  16598.75            True        NaN       NaN      False     False      False    False               True\n",
      "2023-12-15 09:15:00-05:00  16598.75  16612.50  16598.75  16605.25            True        NaN       NaN      False     False      False    False               True\n",
      "2023-12-15 09:20:00-05:00  16605.50  16609.75  16598.75  16601.25            True    16612.5       NaN      False     False      False    False               True\n",
      "2023-12-15 09:25:00-05:00  16600.75  16602.25  16521.50  16558.00            True        NaN       NaN      False     False      False    False               True\n",
      "\n",
      "[978 rows x 12 columns]\n"
     ]
    }
   ],
   "source": [
    "# Define the trading window to filter data; this may move into a separated functions file in the future as it would likely be used often between strategies\n",
    "def is_trading_window(row):\n",
    "    if isinstance(row.name, pd.Timestamp):\n",
    "        return row.name.hour >= tw_open_hour and row.name.hour < tw_close_hour and row.name.dayofweek <= 4\n",
    "    elif isinstance(row.name, tuple):\n",
    "        return row.name[1].hour >= tw_open_hour and row.name[1].hour < tw_close_hour and row.name[1].dayofweek <= 4\n",
    "    else:\n",
    "        raise ValueError(\"Unexpected data type for row.name\")\n",
    "\n",
    "# Apply 'is_trading_window' filter to granular data\n",
    "df[\"is_trading_window\"] = df.apply(is_trading_window, axis=1)\n",
    "# Filter (copy) the results and only display rows where 'is_trading_window' is True\n",
    "df = df[df[\"is_trading_window\"]].copy()\n",
    "# Display the filtered granular output for verification\n",
    "with pd.option_context(\"display.min_rows\", 10, \"display.max_columns\", None, \"display.width\", 1000):\n",
    "    print(f\"Applying 'is_trading_window' to granular DataFrame and filtering results:\\n {df}\")\n",
    "\n",
    "# Apply 'is_trading_window' filter to 30-second resampled data\n",
    "df_30s[\"is_trading_window\"] = df_30s.apply(is_trading_window, axis=1)\n",
    "# Filter (copy) the results and only display rows where 'is_trading_window' is True\n",
    "df_30s = df_30s[df_30s[\"is_trading_window\"]].copy()\n",
    "# Display the filtered 30-second resampled output for verification\n",
    "with pd.option_context(\"display.min_rows\", 10, \"display.max_columns\", None, \"display.width\", 1000):\n",
    "    print(f\"Applying 'is_trading_window' to 30-second resampled DataFrame and filtering results:\\n {df_30s}\")\n",
    "\n",
    "# Apply 'is_trading_window' filter to 5-minute resampled data   \n",
    "df_5m[\"is_trading_window\"] = df_5m.apply(is_trading_window, axis=1)\n",
    "# Filter (copy) the results and only display rows where 'is_trading_window' is True\n",
    "df_5m = df_5m[df_5m[\"is_trading_window\"]].copy()\n",
    "# Display the filtered 5-minute resampled output for verification\n",
    "with pd.option_context(\"display.min_rows\", 10, \"display.max_columns\", None, \"display.width\", 1000):\n",
    "    print(f\"Applying 'is_trading_window' to 5-minute resampled DataFrame and filtering results:\\n {df_5m}\")\n"
   ]
  },
  {
   "cell_type": "markdown",
   "metadata": {},
   "source": [
    "Just outputting the current 5-minute OHLC dataframe for verification/troubleshooting."
   ]
  },
  {
   "cell_type": "code",
   "execution_count": 12,
   "metadata": {},
   "outputs": [
    {
     "name": "stdout",
     "output_type": "stream",
     "text": [
      "Current 5-minute DataFrame saved to .csv at '../strategies/data/30s_sniper_base_model/NQZ3_5min_sniper_trade_results.csv' \n",
      "\n",
      "\n",
      "                               open      high       low     close  is_data_window  SwingHigh  SwingLow  BreakHigh  BreakLow  DownClose  UpClose  is_trading_window\n",
      "ts_recv                                                                                                                                                           \n",
      "2023-12-01 08:00:00-05:00  15924.50  15940.50  15923.00  15935.75            True        NaN       NaN      False     False      False    False               True\n",
      "2023-12-01 08:05:00-05:00  15936.00  15941.50  15935.00  15937.50            True        NaN       NaN      False     False      False    False               True\n",
      "2023-12-01 08:10:00-05:00  15937.50  15942.50  15929.50  15932.75            True        NaN       NaN      False     False      False    False               True\n",
      "2023-12-01 08:15:00-05:00  15932.50  15941.00  15929.75  15940.50            True    15942.5   15929.5      False     False      False    False               True\n",
      "2023-12-01 08:20:00-05:00  15940.25  15945.75  15936.75  15943.50            True        NaN       NaN      False     False      False    False               True\n",
      "...                             ...       ...       ...       ...             ...        ...       ...        ...       ...        ...      ...                ...\n",
      "2023-12-15 09:05:00-05:00  16590.00  16594.25  16586.25  16591.75            True    16596.0       NaN      False     False      False    False               True\n",
      "2023-12-15 09:10:00-05:00  16589.50  16601.00  16589.50  16598.75            True        NaN       NaN      False     False      False    False               True\n",
      "2023-12-15 09:15:00-05:00  16598.75  16612.50  16598.75  16605.25            True        NaN       NaN      False     False      False    False               True\n",
      "2023-12-15 09:20:00-05:00  16605.50  16609.75  16598.75  16601.25            True    16612.5       NaN      False     False      False    False               True\n",
      "2023-12-15 09:25:00-05:00  16600.75  16602.25  16521.50  16558.00            True        NaN       NaN      False     False      False    False               True\n",
      "\n",
      "[978 rows x 12 columns]\n"
     ]
    }
   ],
   "source": [
    "# Output the current 5-minute DataFrame to csv for troubleshooting\n",
    "df_5m.to_csv(f'{temp_data_dir}/{symbol}_5min_sniper_trade_results.csv')\n",
    "print(f\"Current 5-minute DataFrame saved to .csv at '{temp_data_dir}/{symbol}_5min_sniper_trade_results.csv' \\n\\n\") \n",
    "\n",
    "with pd.option_context(\"display.min_rows\", 10, \"display.max_columns\", None, \"display.width\", 1000):\n",
    "    print(df_5m)"
   ]
  },
  {
   "cell_type": "markdown",
   "metadata": {},
   "source": [
    "***The code below is a work in progress.***\n",
    "\n",
    "This is code that I started with in the original iteration and have been refactoring as I go. Assume that this is nonsense, is not working correctly, and currently invalid."
   ]
  },
  {
   "cell_type": "code",
   "execution_count": 13,
   "metadata": {},
   "outputs": [
    {
     "name": "stdout",
     "output_type": "stream",
     "text": [
      "                               open      high       low     close  is_data_window  is_trading_window  BullFVG  BearFVG  LongEntry  ShortEntry  LongStopLoss  LongProfitTarget  ShortStopLoss  ShortProfitTarget\n",
      "ts_recv                                                                                                                                                                                                        \n",
      "2023-12-01 08:00:00-05:00  15924.50  15926.00  15923.00  15923.75            True               True    False    False        NaN         NaN           NaN               NaN            NaN                NaN\n",
      "2023-12-01 08:00:30-05:00  15924.75  15929.00  15924.75  15928.25            True               True    False    False        NaN         NaN           NaN               NaN            NaN                NaN\n",
      "2023-12-01 08:01:00-05:00  15928.00  15931.25  15928.00  15931.00            True               True    False    False        NaN         NaN           NaN               NaN            NaN                NaN\n",
      "2023-12-01 08:01:30-05:00  15930.75  15931.50  15929.00  15930.00            True               True    False    False        NaN         NaN           NaN               NaN            NaN                NaN\n",
      "2023-12-01 08:02:00-05:00  15929.75  15931.75  15928.75  15931.75            True               True    False    False        NaN         NaN           NaN               NaN            NaN                NaN\n",
      "...                             ...       ...       ...       ...             ...                ...      ...      ...        ...         ...           ...               ...            ...                ...\n",
      "2023-12-15 09:27:30-05:00  16580.50  16597.00  16575.00  16580.50            True               True    False    False        NaN         NaN           NaN               NaN            NaN                NaN\n",
      "2023-12-15 09:28:00-05:00  16580.50  16589.00  16545.00  16545.00            True               True    False    False        NaN         NaN           NaN               NaN            NaN                NaN\n",
      "2023-12-15 09:28:30-05:00  16582.00  16582.75  16544.75  16559.25            True               True    False    False        NaN         NaN           NaN               NaN            NaN                NaN\n",
      "2023-12-15 09:29:00-05:00  16552.50  16582.00  16521.50  16557.75            True               True    False    False        NaN         NaN           NaN               NaN            NaN                NaN\n",
      "2023-12-15 09:29:30-05:00  16554.00  16568.50  16533.00  16558.00            True               True    False    False        NaN         NaN           NaN               NaN            NaN                NaN\n",
      "\n",
      "[9780 rows x 14 columns]\n"
     ]
    }
   ],
   "source": [
    "########################################################################\n",
    "# The code below is a work in progress\n",
    "########################################################################\n",
    "\n",
    "# Check for Bullish and Bearish Fair Value Gaps (FVG) using the most granular data (1-minute, currently)\n",
    "df_30s[\"BullFVG\"] = (df_30s[\"low\"].shift(-1).where(df_5m[\"UpClose\"].shift(1) == True) > df_30s[\"high\"].shift(1).where(df_5m[\"UpClose\"].shift(1) == True)).ffill()\n",
    "df_30s[\"BearFVG\"] = (df_30s[\"high\"].shift(-1).where(df_5m[\"DownClose\"].shift(1) == True) < df_30s[\"low\"].shift(1).where(df_5m[\"DownClose\"].shift(1) == True)).ffill()\n",
    "\n",
    "# When a Fair Value Gap is created, note the entry price\n",
    "df_30s[\"LongEntry\"] = (df_30s[\"low\"].shift(-1).where(df_30s[\"BullFVG\"] == True)).shift(1)\n",
    "df_30s[\"ShortEntry\"] = (df_30s[\"high\"].shift(-1).where(df_30s[\"BearFVG\"] == True)).shift(1)\n",
    "\n",
    "# Determine stop loss and profit target prices and add them to the dataframe\n",
    "df_30s[\"LongStopLoss\"] = (df_30s[\"LongEntry\"] - stop_loss)\n",
    "df_30s[\"LongProfitTarget\"] = (df_30s[\"LongEntry\"] + profit_target)\n",
    "df_30s[\"ShortStopLoss\"] = (df_30s[\"ShortEntry\"] + stop_loss)\n",
    "df_30s[\"ShortProfitTarget\"] = (df_30s[\"ShortEntry\"] - profit_target)\n",
    "\n",
    "# Output the DataFrame with swing high, swing low, BreakHigh, BreakLow, DownClose, and UpClose signals\n",
    "with pd.option_context(\"display.max_rows\", 20, \"display.max_columns\", None, \"display.width\", 1000):\n",
    "    print(df_30s)\n",
    "    \n",
    "# Output the 30-second results to .csv\n",
    "df_30s.to_csv(f\"{temp_data_dir}/{symbol}_30s_sniper_trade_results.csv\")\n"
   ]
  },
  {
   "cell_type": "markdown",
   "metadata": {},
   "source": [
    "#### Need to add backtesting library functions and code below. The following rules should be included:\n",
    "\n",
    "* Trade Window: 08:00AM - 16:00PM EDT (completed)\n",
    "* No new trade executions between 09:25AM - 09:35AM; open positions are fine to hold through the New York open at 09:30AM\n",
    "* No new trades executed after 15:55PM, open positions are find to hold through the New York close at 16:00PM\n",
    "* All positions should be closed by 16:09:59PM; this could be extended based on funding company or broker trading windows\n",
    "* While a position is open, new trade setups and executions may be added in the same direction\n",
    "* While a position is open, oppositing setups should be ignored, but still tracked in case the actual entry takes place after the open position closes\n",
    "* Rules regarding news and economic numbers release times should be added ASAP once the historical results are generating successfully"
   ]
  }
 ],
 "metadata": {
  "kernelspec": {
   "display_name": "gfcfin",
   "language": "python",
   "name": "python3"
  },
  "language_info": {
   "codemirror_mode": {
    "name": "ipython",
    "version": 3
   },
   "file_extension": ".py",
   "mimetype": "text/x-python",
   "name": "python",
   "nbconvert_exporter": "python",
   "pygments_lexer": "ipython3",
   "version": "3.9.19"
  }
 },
 "nbformat": 4,
 "nbformat_minor": 2
}
